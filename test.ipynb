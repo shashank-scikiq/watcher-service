{
 "cells": [
  {
   "cell_type": "code",
   "execution_count": 1,
   "metadata": {},
   "outputs": [],
   "source": [
    "from urllib.request import urlopen\n",
    "from urllib.error import *\n",
    "\n",
    "import requests"
   ]
  },
  {
   "cell_type": "code",
   "execution_count": 2,
   "metadata": {},
   "outputs": [],
   "source": [
    "from time import sleep"
   ]
  },
  {
   "cell_type": "code",
   "execution_count": 24,
   "metadata": {},
   "outputs": [],
   "source": [
    "error_codes = {\n",
    "  200:\"OK\",\n",
    "  404: \"Page Not Found\"\n",
    "}"
   ]
  },
  {
   "cell_type": "code",
   "execution_count": null,
   "metadata": {},
   "outputs": [],
   "source": [
    "db_ips = {\n",
    "  \n",
    "}"
   ]
  },
  {
   "cell_type": "code",
   "execution_count": null,
   "metadata": {},
   "outputs": [],
   "source": [
    "server_ips = {\n",
    "  \n",
    "}"
   ]
  },
  {
   "cell_type": "code",
   "execution_count": null,
   "metadata": {},
   "outputs": [],
   "source": [
    "django_apis = {\n",
    "  \"max_date\": \"http://15.206.0.116:8081/api/get-max-date/\",\n",
    "  \"overall_data\" : \"http://15.206.0.116:8081/api/retail/overall/top_card_delta/?domainName=None&startDate=2024-02-27&endDate=2024-05-26\",\n",
    "  \"mapwise_data\": \"http://15.206.0.116:8081/api/retail/overall/map_statewise_data/?domainName=None&startDate=2024-02-27&endDate=2024-05-26\"\n",
    "}"
   ]
  },
  {
   "cell_type": "code",
   "execution_count": 17,
   "metadata": {},
   "outputs": [],
   "source": [
    "def url_response(url: str) -> str:\n",
    "  try:\n",
    "   response = requests.head(url)\n",
    "    # response = requests.head(url)\n",
    "  except Exception as e:\n",
    "    raise HTTPError\n",
    "  else:\n",
    "    if 'error' in response:\n",
    "            return response.status\n",
    "    else:\n",
    "            return response"
   ]
  },
  {
   "cell_type": "code",
   "execution_count": 4,
   "metadata": {},
   "outputs": [],
   "source": [
    "def check_api_status(api:str, tries:str = 1)-> str:\n",
    "\tfor _ in range(tries):\n",
    "\t\tweb_val = \"\"\n",
    "\t\t# sleep(10)\n",
    "\t\ttry:\n",
    "\t\t\t\thtml = urlopen(api)\n",
    "\t\texcept HTTPError as e:\n",
    "\t\t\t\tprint(\"HTTPError\", e.args[0])\n",
    "\t\texcept URLError as e:\n",
    "\t\t\t\tprint(\"Page not found !!!\", e.args[0])\n",
    "\t\telse:\n",
    "\t\t\t\tweb_val = len(html.read())\n",
    "\t\t\t\tprint(\"Page up and running.\")\n",
    "\telse:\n",
    "\t\treturn web_val"
   ]
  },
  {
   "cell_type": "code",
   "execution_count": 21,
   "metadata": {},
   "outputs": [],
   "source": [
    "server = \"http://15.206.0.116:8081/retails\""
   ]
  },
  {
   "cell_type": "code",
   "execution_count": 6,
   "metadata": {},
   "outputs": [
    {
     "name": "stdout",
     "output_type": "stream",
     "text": [
      "Page up and running.\n"
     ]
    },
    {
     "data": {
      "text/plain": [
       "80799"
      ]
     },
     "execution_count": 6,
     "metadata": {},
     "output_type": "execute_result"
    }
   ],
   "source": [
    "check_api_status(\"http://15.206.0.116:8081\")"
   ]
  },
  {
   "cell_type": "code",
   "execution_count": 22,
   "metadata": {},
   "outputs": [
    {
     "data": {
      "text/plain": [
       "<Response [200]>"
      ]
     },
     "execution_count": 22,
     "metadata": {},
     "output_type": "execute_result"
    }
   ],
   "source": [
    "url_response(server)"
   ]
  },
  {
   "cell_type": "code",
   "execution_count": 23,
   "metadata": {},
   "outputs": [
    {
     "data": {
      "text/plain": [
       "<Response [200]>"
      ]
     },
     "execution_count": 23,
     "metadata": {},
     "output_type": "execute_result"
    }
   ],
   "source": []
  }
 ],
 "metadata": {
  "kernelspec": {
   "display_name": ".venv",
   "language": "python",
   "name": "python3"
  },
  "language_info": {
   "codemirror_mode": {
    "name": "ipython",
    "version": 3
   },
   "file_extension": ".py",
   "mimetype": "text/x-python",
   "name": "python",
   "nbconvert_exporter": "python",
   "pygments_lexer": "ipython3",
   "version": "3.12.3"
  }
 },
 "nbformat": 4,
 "nbformat_minor": 2
}
